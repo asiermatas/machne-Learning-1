{
 "cells": [
  {
   "cell_type": "markdown",
   "metadata": {},
   "source": [
    "# 3 Estimación de la supervivencia de los pasajeros del Titanic.\n",
    "\n",
    "Enunciado\n",
    "\n",
    "Utilizando los datos del archivo “titanic.csv”, que contienen información del pasaje del Titanic, para la creación de un modelo que pueda predecir si un pasajero sobrevive al hundimiento del barco en el momento de embarque. Para esto se han de seleccionar la variables con mayor capacidad de predicción.\n",
    "Para la creación del modelo no se pueden utilizar las variables “boat” ni “body” ya que estas contienen información posterior al momento del embarque.\n",
    "\n",
    "En el conjunto de datos existes valores NaN en las columnas “age” y “fare”, para eliminar las filas con estos valores se puede utilizar el siguiente comando:\n",
    "\n",
    "    mask = titanic[['age', 'fare']].applymap(lambda x: math.isnan(x))\n",
    "\n",
    "    titanic = titanic[-mask.any(axis = 1)]"
   ]
  },
  {
   "cell_type": "code",
   "execution_count": 31,
   "metadata": {
    "collapsed": false
   },
   "outputs": [
    {
     "name": "stdout",
     "output_type": "stream",
     "text": [
      "Using matplotlib backend: Qt4Agg\n",
      "Populating the interactive namespace from numpy and matplotlib\n"
     ]
    }
   ],
   "source": [
    "# Empezamos importando las libreriaas que vamos a nneccesitar\n",
    "import numpy as np\n",
    "import pandas as pd\n",
    "import csv\n",
    "import matplotlib.pyplot as plt \n",
    "%matplotlib inline\n",
    "%pylab\n",
    "import math\n"
   ]
  },
  {
   "cell_type": "code",
   "execution_count": 7,
   "metadata": {
    "collapsed": false
   },
   "outputs": [],
   "source": [
    "# vamos a cargar los datos del pasaje del titanic (esta excluida la tripulación)\n",
    "\n",
    "titanic = pd.read_csv(\"titanic.csv\", sep=\",\")\n"
   ]
  },
  {
   "cell_type": "code",
   "execution_count": 8,
   "metadata": {
    "collapsed": false
   },
   "outputs": [
    {
     "name": "stdout",
     "output_type": "stream",
     "text": [
      "(1309, 14)\n"
     ]
    },
    {
     "data": {
      "text/html": [
       "<div>\n",
       "<table border=\"1\" class=\"dataframe\">\n",
       "  <thead>\n",
       "    <tr style=\"text-align: right;\">\n",
       "      <th></th>\n",
       "      <th>pclass</th>\n",
       "      <th>survived</th>\n",
       "      <th>name</th>\n",
       "      <th>sex</th>\n",
       "      <th>age</th>\n",
       "      <th>sibsp</th>\n",
       "      <th>parch</th>\n",
       "      <th>ticket</th>\n",
       "      <th>fare</th>\n",
       "      <th>cabin</th>\n",
       "      <th>embarked</th>\n",
       "      <th>boat</th>\n",
       "      <th>body</th>\n",
       "      <th>home.dest</th>\n",
       "    </tr>\n",
       "  </thead>\n",
       "  <tbody>\n",
       "    <tr>\n",
       "      <th>0</th>\n",
       "      <td>1</td>\n",
       "      <td>1</td>\n",
       "      <td>Allen, Miss. Elisabeth Walton</td>\n",
       "      <td>female</td>\n",
       "      <td>29.00</td>\n",
       "      <td>0</td>\n",
       "      <td>0</td>\n",
       "      <td>24160</td>\n",
       "      <td>211.3375</td>\n",
       "      <td>B5</td>\n",
       "      <td>S</td>\n",
       "      <td>2</td>\n",
       "      <td>NaN</td>\n",
       "      <td>St Louis, MO</td>\n",
       "    </tr>\n",
       "    <tr>\n",
       "      <th>1</th>\n",
       "      <td>1</td>\n",
       "      <td>1</td>\n",
       "      <td>Allison, Master. Hudson Trevor</td>\n",
       "      <td>male</td>\n",
       "      <td>0.92</td>\n",
       "      <td>1</td>\n",
       "      <td>2</td>\n",
       "      <td>113781</td>\n",
       "      <td>151.5500</td>\n",
       "      <td>C22 C26</td>\n",
       "      <td>S</td>\n",
       "      <td>11</td>\n",
       "      <td>NaN</td>\n",
       "      <td>Montreal, PQ / Chesterville, ON</td>\n",
       "    </tr>\n",
       "    <tr>\n",
       "      <th>2</th>\n",
       "      <td>1</td>\n",
       "      <td>0</td>\n",
       "      <td>Allison, Miss. Helen Loraine</td>\n",
       "      <td>female</td>\n",
       "      <td>2.00</td>\n",
       "      <td>1</td>\n",
       "      <td>2</td>\n",
       "      <td>113781</td>\n",
       "      <td>151.5500</td>\n",
       "      <td>C22 C26</td>\n",
       "      <td>S</td>\n",
       "      <td>NaN</td>\n",
       "      <td>NaN</td>\n",
       "      <td>Montreal, PQ / Chesterville, ON</td>\n",
       "    </tr>\n",
       "    <tr>\n",
       "      <th>3</th>\n",
       "      <td>1</td>\n",
       "      <td>0</td>\n",
       "      <td>Allison, Mr. Hudson Joshua Creighton</td>\n",
       "      <td>male</td>\n",
       "      <td>30.00</td>\n",
       "      <td>1</td>\n",
       "      <td>2</td>\n",
       "      <td>113781</td>\n",
       "      <td>151.5500</td>\n",
       "      <td>C22 C26</td>\n",
       "      <td>S</td>\n",
       "      <td>NaN</td>\n",
       "      <td>135.0</td>\n",
       "      <td>Montreal, PQ / Chesterville, ON</td>\n",
       "    </tr>\n",
       "    <tr>\n",
       "      <th>4</th>\n",
       "      <td>1</td>\n",
       "      <td>0</td>\n",
       "      <td>Allison, Mrs. Hudson J C (Bessie Waldo Daniels)</td>\n",
       "      <td>female</td>\n",
       "      <td>25.00</td>\n",
       "      <td>1</td>\n",
       "      <td>2</td>\n",
       "      <td>113781</td>\n",
       "      <td>151.5500</td>\n",
       "      <td>C22 C26</td>\n",
       "      <td>S</td>\n",
       "      <td>NaN</td>\n",
       "      <td>NaN</td>\n",
       "      <td>Montreal, PQ / Chesterville, ON</td>\n",
       "    </tr>\n",
       "  </tbody>\n",
       "</table>\n",
       "</div>"
      ],
      "text/plain": [
       "   pclass  survived                                             name     sex  \\\n",
       "0       1         1                    Allen, Miss. Elisabeth Walton  female   \n",
       "1       1         1                   Allison, Master. Hudson Trevor    male   \n",
       "2       1         0                     Allison, Miss. Helen Loraine  female   \n",
       "3       1         0             Allison, Mr. Hudson Joshua Creighton    male   \n",
       "4       1         0  Allison, Mrs. Hudson J C (Bessie Waldo Daniels)  female   \n",
       "\n",
       "     age  sibsp  parch  ticket      fare    cabin embarked boat   body  \\\n",
       "0  29.00      0      0   24160  211.3375       B5        S    2    NaN   \n",
       "1   0.92      1      2  113781  151.5500  C22 C26        S   11    NaN   \n",
       "2   2.00      1      2  113781  151.5500  C22 C26        S  NaN    NaN   \n",
       "3  30.00      1      2  113781  151.5500  C22 C26        S  NaN  135.0   \n",
       "4  25.00      1      2  113781  151.5500  C22 C26        S  NaN    NaN   \n",
       "\n",
       "                         home.dest  \n",
       "0                     St Louis, MO  \n",
       "1  Montreal, PQ / Chesterville, ON  \n",
       "2  Montreal, PQ / Chesterville, ON  \n",
       "3  Montreal, PQ / Chesterville, ON  \n",
       "4  Montreal, PQ / Chesterville, ON  "
      ]
     },
     "execution_count": 8,
     "metadata": {},
     "output_type": "execute_result"
    }
   ],
   "source": [
    "# vamos a echarle un vistazo a los datos\n",
    "\n",
    "print (titanic.shape)\n",
    "\n",
    "titanic.head()\n",
    "\n"
   ]
  },
  {
   "cell_type": "code",
   "execution_count": 9,
   "metadata": {
    "collapsed": false
   },
   "outputs": [
    {
     "name": "stdout",
     "output_type": "stream",
     "text": [
      "<class 'pandas.core.frame.DataFrame'>\n",
      "RangeIndex: 1309 entries, 0 to 1308\n",
      "Data columns (total 14 columns):\n",
      "pclass       1309 non-null int64\n",
      "survived     1309 non-null int64\n",
      "name         1309 non-null object\n",
      "sex          1309 non-null object\n",
      "age          1046 non-null float64\n",
      "sibsp        1309 non-null int64\n",
      "parch        1309 non-null int64\n",
      "ticket       1309 non-null object\n",
      "fare         1308 non-null float64\n",
      "cabin        295 non-null object\n",
      "embarked     1307 non-null object\n",
      "boat         486 non-null object\n",
      "body         121 non-null float64\n",
      "home.dest    745 non-null object\n",
      "dtypes: float64(3), int64(4), object(7)\n",
      "memory usage: 143.2+ KB\n"
     ]
    }
   ],
   "source": [
    "titanic.info()"
   ]
  },
  {
   "cell_type": "code",
   "execution_count": 10,
   "metadata": {
    "collapsed": true
   },
   "outputs": [],
   "source": [
    "# vemos que en total tenemos 1309 pasajeros \n",
    "# Columnas:\n",
    "\n",
    "# p class - en que clase viajaban (1 = 1ª; 2 = 2ª; 3 = 3ª)\n",
    "# survived  si sobrevive (1) o no(0)\n",
    "# name - Nombre\n",
    "# sex -valores posibles: female & malle\n",
    "# Age - Edad\n",
    "# sibsp - cuantos hermanos o conyuje tiene en el barco\n",
    "# parch - cuantos niños o padres tiene en el barco\n",
    "# ticket - El número de ticket\n",
    "# fare - El coste del ticket\n",
    "# cabin - El camarote\n",
    "# embarked - Donde embarco (Southhampton, Cheburgo, Queenstown)\n",
    "# boat - Nº barco sallvamento\n",
    "# body \n",
    "# home dest - Destino\n",
    "\n",
    "\n",
    "# El objetivo es crear un modelo para cuando embarque alguien saber la probabilidad de que sobreviva en un naufragio o no.\n",
    "\n",
    "# Empezamos quitando varias columnnas porque no nos van a servir para la contrucción del modelo:\n",
    "\n",
    "# name - Nombre --> el nombre en sí en princippio no deberia de ser un factor que diese una mayor o probabilidad de supervivencia.\n",
    "# Si no que se lo digan a Martin Rothschild y Bejamin Guggenheim que perecieron a pesar de tan famosos nombres. \n",
    "# Otra cosa es que al ser famosos sean ricos y enttonces tengan mejor pasaje pero eso lo analizamos en otras columnas.\n",
    "\n",
    "\n",
    "# ticket - El número de ticket - El numero de ticket no es un factor a tener en cuenta para la supervivencia a no ser que \n",
    "# durante el naufragio montasen una tombola en base al número de billete para subir al bote ( y aún así todos tendrían la\n",
    "# mismas posibilidades por lo que también lo quitaríamos)\n",
    "\n",
    "# cabin - El camarote - El numero de cabina podría tener su impprtancia en cuanto ha cierto grupo de cambinas que estan\n",
    "# situadas en la cubierta donde están los botes salvavidas y otras que estan junto a la sala de maquinas abajo del todo\n",
    "# pero en la muestras de datos no todos los pasajeros tienen cabina asignada (sabemos que hay camarotes comunales, pero\n",
    "# incluso en primera clase tenemos 67 pasajeros sin cabinas asignadas  ) y algun pasajero en 4 cabinas (igual es que a\n",
    "#  Ryerson, Miss. Emily Borie le gustaba viajar muy muy comoda)\n",
    "\n",
    "\n",
    "# embarked - Donde embarco (Southhampton, Cheburgo, Queensland) - El origen del destinno, pues en teoria si influiria si\n",
    "# queremos tener un modelo predictivo enn el moento del embarque ya que el que embarco en Southhammpton tiene maás posbilidades\n",
    "# de morir en el titanic que el que emmbarca en Queenstown ya que el titanic pudo haber tenido un contratiempo en el viaje\n",
    "# de southhampton a cheburgo u otro problema de cheburgo a Queenstown.\n",
    "# Por eso nuestro modelo sería unmodelo predctivo de la posibilidad de supervivencia entre Queenstown y Nueva York.\n",
    "# Por eso lo eliminamos también.\n",
    "\n",
    "\n",
    "\n",
    "# boat - Nº barco sallvamento - Este dato no influye en la prevision de si sobrevivira o no en el momento de embarque y\n",
    "# además nos ha dicho el profe de quitarla\n",
    "\n",
    "# body - y este también nos ha dicho el profe de quitarlo ;o)\n",
    "\n",
    "\n",
    "# home dest - Destino - En cuanto al destino al ser para todos los pasajeros el mismo (Nueva york) tampoco nos influye.\n"
   ]
  },
  {
   "cell_type": "code",
   "execution_count": 11,
   "metadata": {
    "collapsed": true
   },
   "outputs": [],
   "source": [
    "\n",
    "# vamos a borrar las columna\n",
    "\n",
    "del titanic['name']\n",
    "del titanic['ticket']\n",
    "del titanic['cabin']\n",
    "del titanic['embarked']\n",
    "del titanic['boat']\n",
    "del titanic['body']\n",
    "del titanic['home.dest']"
   ]
  },
  {
   "cell_type": "code",
   "execution_count": 12,
   "metadata": {
    "collapsed": false
   },
   "outputs": [
    {
     "data": {
      "text/html": [
       "<div>\n",
       "<table border=\"1\" class=\"dataframe\">\n",
       "  <thead>\n",
       "    <tr style=\"text-align: right;\">\n",
       "      <th></th>\n",
       "      <th>pclass</th>\n",
       "      <th>survived</th>\n",
       "      <th>sex</th>\n",
       "      <th>age</th>\n",
       "      <th>sibsp</th>\n",
       "      <th>parch</th>\n",
       "      <th>fare</th>\n",
       "    </tr>\n",
       "  </thead>\n",
       "  <tbody>\n",
       "    <tr>\n",
       "      <th>0</th>\n",
       "      <td>1</td>\n",
       "      <td>1</td>\n",
       "      <td>female</td>\n",
       "      <td>29.00</td>\n",
       "      <td>0</td>\n",
       "      <td>0</td>\n",
       "      <td>211.3375</td>\n",
       "    </tr>\n",
       "    <tr>\n",
       "      <th>1</th>\n",
       "      <td>1</td>\n",
       "      <td>1</td>\n",
       "      <td>male</td>\n",
       "      <td>0.92</td>\n",
       "      <td>1</td>\n",
       "      <td>2</td>\n",
       "      <td>151.5500</td>\n",
       "    </tr>\n",
       "    <tr>\n",
       "      <th>2</th>\n",
       "      <td>1</td>\n",
       "      <td>0</td>\n",
       "      <td>female</td>\n",
       "      <td>2.00</td>\n",
       "      <td>1</td>\n",
       "      <td>2</td>\n",
       "      <td>151.5500</td>\n",
       "    </tr>\n",
       "    <tr>\n",
       "      <th>3</th>\n",
       "      <td>1</td>\n",
       "      <td>0</td>\n",
       "      <td>male</td>\n",
       "      <td>30.00</td>\n",
       "      <td>1</td>\n",
       "      <td>2</td>\n",
       "      <td>151.5500</td>\n",
       "    </tr>\n",
       "    <tr>\n",
       "      <th>4</th>\n",
       "      <td>1</td>\n",
       "      <td>0</td>\n",
       "      <td>female</td>\n",
       "      <td>25.00</td>\n",
       "      <td>1</td>\n",
       "      <td>2</td>\n",
       "      <td>151.5500</td>\n",
       "    </tr>\n",
       "  </tbody>\n",
       "</table>\n",
       "</div>"
      ],
      "text/plain": [
       "   pclass  survived     sex    age  sibsp  parch      fare\n",
       "0       1         1  female  29.00      0      0  211.3375\n",
       "1       1         1    male   0.92      1      2  151.5500\n",
       "2       1         0  female   2.00      1      2  151.5500\n",
       "3       1         0    male  30.00      1      2  151.5500\n",
       "4       1         0  female  25.00      1      2  151.5500"
      ]
     },
     "execution_count": 12,
     "metadata": {},
     "output_type": "execute_result"
    }
   ],
   "source": [
    "\n",
    "\n",
    "# Por eso nos vamos a queddar con un data frame con las siguientes columnas:\n",
    "\n",
    "# p class - en que clase viajaban (1 = 1ª; 2 = 2ª; 3 = 3ª)\n",
    "# survived  si sobrevive (1) o no(0)\n",
    "# sex -valores posibles: female & malle\n",
    "# Age - Edad\n",
    "# sibsp - cuantos hermanos o conyuje tiene en el barco\n",
    "# parch - cuantos niños o padres tiene en el barco\n",
    "# fare - El coste del ticket\n",
    "\n",
    "titanic.head()"
   ]
  },
  {
   "cell_type": "code",
   "execution_count": 13,
   "metadata": {
    "collapsed": false
   },
   "outputs": [
    {
     "name": "stdout",
     "output_type": "stream",
     "text": [
      "<class 'pandas.core.frame.DataFrame'>\n",
      "RangeIndex: 1309 entries, 0 to 1308\n",
      "Data columns (total 7 columns):\n",
      "pclass      1309 non-null int64\n",
      "survived    1309 non-null int64\n",
      "sex         1309 non-null object\n",
      "age         1046 non-null float64\n",
      "sibsp       1309 non-null int64\n",
      "parch       1309 non-null int64\n",
      "fare        1308 non-null float64\n",
      "dtypes: float64(2), int64(4), object(1)\n",
      "memory usage: 71.7+ KB\n"
     ]
    }
   ],
   "source": [
    "titanic.info()"
   ]
  },
  {
   "cell_type": "code",
   "execution_count": 14,
   "metadata": {
    "collapsed": true
   },
   "outputs": [],
   "source": [
    "# Vemmos que tenemos en Age (263 valores) y Fare (1) datos en blanco.\n",
    "\n",
    "# lo siguiente es la limpieza de datos de las columnas fare y age\n",
    "\n",
    "mask = titanic[['age', 'fare']].applymap(lambda x: math.isnan(x))\n",
    "\n",
    "titanic = titanic[-mask.any(axis = 1)]\n"
   ]
  },
  {
   "cell_type": "code",
   "execution_count": 15,
   "metadata": {
    "collapsed": false
   },
   "outputs": [
    {
     "name": "stdout",
     "output_type": "stream",
     "text": [
      "<class 'pandas.core.frame.DataFrame'>\n",
      "Int64Index: 1045 entries, 0 to 1308\n",
      "Data columns (total 7 columns):\n",
      "pclass      1045 non-null int64\n",
      "survived    1045 non-null int64\n",
      "sex         1045 non-null object\n",
      "age         1045 non-null float64\n",
      "sibsp       1045 non-null int64\n",
      "parch       1045 non-null int64\n",
      "fare        1045 non-null float64\n",
      "dtypes: float64(2), int64(4), object(1)\n",
      "memory usage: 65.3+ KB\n"
     ]
    }
   ],
   "source": [
    "titanic.info()"
   ]
  },
  {
   "cell_type": "code",
   "execution_count": 16,
   "metadata": {
    "collapsed": true
   },
   "outputs": [],
   "source": [
    "# con esto hemos eliminado todos los registros que tiene la edad o el precio de billete en blanco y nos queddamos con 1045\n",
    "# registros con los que trabajar"
   ]
  },
  {
   "cell_type": "code",
   "execution_count": 27,
   "metadata": {
    "collapsed": false
   },
   "outputs": [
    {
     "data": {
      "text/plain": [
       "array([[<matplotlib.axes._subplots.AxesSubplot object at 0x0000020B0B808FD0>,\n",
       "        <matplotlib.axes._subplots.AxesSubplot object at 0x0000020B0B5CD438>],\n",
       "       [<matplotlib.axes._subplots.AxesSubplot object at 0x0000020B0B283A90>,\n",
       "        <matplotlib.axes._subplots.AxesSubplot object at 0x0000020B0B224828>],\n",
       "       [<matplotlib.axes._subplots.AxesSubplot object at 0x0000020B0B766A58>,\n",
       "        <matplotlib.axes._subplots.AxesSubplot object at 0x0000020B0B3D4780>]], dtype=object)"
      ]
     },
     "execution_count": 27,
     "metadata": {},
     "output_type": "execute_result"
    },
    {
     "data": {
      "image/png": "[encoded data removed]",
      "text/plain": [
       "<matplotlib.figure.Figure at 0x20b0b7ebfd0>"
      ]
     },
     "metadata": {},
     "output_type": "display_data"
    }
   ],
   "source": [
    "# aquí vemos las estadisticas de los valores de cada columna, es decir como se reparten los valores en cada una de las \n",
    "# columnas. Si hay más valores de un tipo o de otro.\n",
    "\n",
    "%matplotlib inline \n",
    "titanic.hist(figsize=(12,10)) "
   ]
  },
  {
   "cell_type": "code",
   "execution_count": null,
   "metadata": {
    "collapsed": true
   },
   "outputs": [],
   "source": [
    "# vemos que:\n",
    "\n",
    "# Había de todas las edades aunque la mayoria eran jovenes entre 20 y 40 años\n",
    "\n",
    "# los datos del precio del billete no creo que esten mmuy bien ya que tenemos numerosos billetes gratis (=0), varios sin \n",
    "# precio (en blanco) y uno que parece que ha pagado por todos los demás (los Cardeza han pagado ellos solitos más de un\n",
    "# millon) y salvo que se hayan dedicado a invitar a todos sus amigo y conocidos, pero muchos, a subirse al titanic ( lo cual explicaria\n",
    "# tantos asajeros con billete que cuesta 0) tiene que ser un error por lo que dejaremos de utilizar esta variable.\n",
    "# la entenderemos comprendida por la clase del billete.\n",
    "\n",
    "# Vemos que habia casi más gente en 3ª clase que en primera y segunda juntas\n",
    "\n",
    "# Vemos que la mayoria viajaban solos, por los graficos parch y sibsp. Por ahora no sabemos is eso tendría inflluencia.\n",
    "\n",
    "# Y finalmente que murio mucha más gente de la que sobrevivio.\n",
    "\n",
    "# vamos a hacer graficos para relacionar estas variables con la de supervivencia para ver si estan directamennte relacionadas. \n"
   ]
  },
  {
   "cell_type": "code",
   "execution_count": 32,
   "metadata": {
    "collapsed": false
   },
   "outputs": [
    {
     "data": {
      "text/plain": [
       "<matplotlib.axes._subplots.AxesSubplot at 0x20b0f061c88>"
      ]
     },
     "execution_count": 32,
     "metadata": {},
     "output_type": "execute_result"
    },
    {
     "data": {
      "image/png": "[encoded data removed]",
      "text/plain": [
       "<matplotlib.figure.Figure at 0x20b0f03f860>"
      ]
     },
     "metadata": {},
     "output_type": "display_data"
    }
   ],
   "source": [
    "# Así pintamos la relacion entre edad y supervivencia\n",
    "\n",
    "graf = pd.crosstab(titanic.age, titanic.survived)\n",
    "graf.plot(kind='bar', stacked=True, color=['blue','green','red' ], grid=False)"
   ]
  },
  {
   "cell_type": "code",
   "execution_count": null,
   "metadata": {
    "collapsed": true
   },
   "outputs": [],
   "source": [
    "# Para una mejor visualización a discretizar, es decir, convertir una variable continua en una categorica.\n",
    "# Es decir vamos a crear una función que en basee a ciertos valores nummericos se le asigna una caracteristica\n",
    "# En este caso vamos a categorizar los ppasajeros en funcion de su edad: niños adultos y tercera edad"
   ]
  },
  {
   "cell_type": "code",
   "execution_count": 36,
   "metadata": {
    "collapsed": false
   },
   "outputs": [],
   "source": [
    "# Función para discretizar\n",
    "\n",
    "def get_WoE(data, var, target):\n",
    "   crosstab = pd.crosstab(data[target], data[var])\n",
    "   print (\"Obteniendo el Woe para la variable\", var, \":\")    \n",
    "   for col in crosstab.columns:\n",
    "       if crosstab[col][1] == 0:\n",
    "           print (\"  El WoE para\", col, \"[\", sum(crosstab[col]), \"] es infinito\")\n",
    "       else:\n",
    "           print (\"  El WoE para\", col, \"[\", sum(crosstab[col]), \"] es\", np.log(float(crosstab[col][0]) / float(crosstab[col][1])))\n",
    "\n"
   ]
  },
  {
   "cell_type": "code",
   "execution_count": 37,
   "metadata": {
    "collapsed": false
   },
   "outputs": [
    {
     "name": "stdout",
     "output_type": "stream",
     "text": [
      "Obteniendo el Woe para la variable Age_Agregado :\n",
      "  El WoE para Niños [ 91 ] es -0.24294617861\n",
      "  El WoE para adultos [ 922 ] es 0.409081748578\n",
      "  El WoE para tercera edad [ 32 ] es 1.09861228867\n"
     ]
    }
   ],
   "source": [
    "titanic2 = titanic.loc[:, 'Age_Agregado'] = titanic['age'].map(lambda x: 'Niños' if x<12 else 'tercera edad' if x > 60 else 'adultos')\n",
    "get_WoE(titanic, 'Age_Agregado', 'survived') "
   ]
  },
  {
   "cell_type": "code",
   "execution_count": 39,
   "metadata": {
    "collapsed": false
   },
   "outputs": [
    {
     "data": {
      "text/html": [
       "<div>\n",
       "<table border=\"1\" class=\"dataframe\">\n",
       "  <thead>\n",
       "    <tr style=\"text-align: right;\">\n",
       "      <th></th>\n",
       "      <th>pclass</th>\n",
       "      <th>survived</th>\n",
       "      <th>sex</th>\n",
       "      <th>age</th>\n",
       "      <th>sibsp</th>\n",
       "      <th>parch</th>\n",
       "      <th>fare</th>\n",
       "      <th>Age_Agregado</th>\n",
       "    </tr>\n",
       "  </thead>\n",
       "  <tbody>\n",
       "    <tr>\n",
       "      <th>0</th>\n",
       "      <td>1</td>\n",
       "      <td>1</td>\n",
       "      <td>female</td>\n",
       "      <td>29.00</td>\n",
       "      <td>0</td>\n",
       "      <td>0</td>\n",
       "      <td>211.3375</td>\n",
       "      <td>adultos</td>\n",
       "    </tr>\n",
       "    <tr>\n",
       "      <th>1</th>\n",
       "      <td>1</td>\n",
       "      <td>1</td>\n",
       "      <td>male</td>\n",
       "      <td>0.92</td>\n",
       "      <td>1</td>\n",
       "      <td>2</td>\n",
       "      <td>151.5500</td>\n",
       "      <td>Niños</td>\n",
       "    </tr>\n",
       "    <tr>\n",
       "      <th>2</th>\n",
       "      <td>1</td>\n",
       "      <td>0</td>\n",
       "      <td>female</td>\n",
       "      <td>2.00</td>\n",
       "      <td>1</td>\n",
       "      <td>2</td>\n",
       "      <td>151.5500</td>\n",
       "      <td>Niños</td>\n",
       "    </tr>\n",
       "    <tr>\n",
       "      <th>3</th>\n",
       "      <td>1</td>\n",
       "      <td>0</td>\n",
       "      <td>male</td>\n",
       "      <td>30.00</td>\n",
       "      <td>1</td>\n",
       "      <td>2</td>\n",
       "      <td>151.5500</td>\n",
       "      <td>adultos</td>\n",
       "    </tr>\n",
       "    <tr>\n",
       "      <th>4</th>\n",
       "      <td>1</td>\n",
       "      <td>0</td>\n",
       "      <td>female</td>\n",
       "      <td>25.00</td>\n",
       "      <td>1</td>\n",
       "      <td>2</td>\n",
       "      <td>151.5500</td>\n",
       "      <td>adultos</td>\n",
       "    </tr>\n",
       "  </tbody>\n",
       "</table>\n",
       "</div>"
      ],
      "text/plain": [
       "   pclass  survived     sex    age  sibsp  parch      fare Age_Agregado\n",
       "0       1         1  female  29.00      0      0  211.3375      adultos\n",
       "1       1         1    male   0.92      1      2  151.5500        Niños\n",
       "2       1         0  female   2.00      1      2  151.5500        Niños\n",
       "3       1         0    male  30.00      1      2  151.5500      adultos\n",
       "4       1         0  female  25.00      1      2  151.5500      adultos"
      ]
     },
     "execution_count": 39,
     "metadata": {},
     "output_type": "execute_result"
    }
   ],
   "source": [
    "# vemos como nos ha quedado el data frame con la nueva columna clasificada en base a edades\n",
    "\n",
    "titanic.head()"
   ]
  },
  {
   "cell_type": "code",
   "execution_count": 40,
   "metadata": {
    "collapsed": false
   },
   "outputs": [
    {
     "data": {
      "text/plain": [
       "<matplotlib.axes._subplots.AxesSubplot at 0x20b0b9382e8>"
      ]
     },
     "execution_count": 40,
     "metadata": {},
     "output_type": "execute_result"
    },
    {
     "data": {
      "image/png": "[encoded data removed]",
      "text/plain": [
       "<matplotlib.figure.Figure at 0x20b0ee27cf8>"
      ]
     },
     "metadata": {},
     "output_type": "display_data"
    }
   ],
   "source": [
    "# Ahora pintamos de nuevo la relacion entre edad, bueno la edad categorizada, y supervivencia\n",
    "\n",
    "graf = pd.crosstab(titanic.Age_Agregado, titanic.survived)\n",
    "graf.plot(kind='bar', stacked=True, color=['blue','green','red' ], grid=False)"
   ]
  },
  {
   "cell_type": "code",
   "execution_count": null,
   "metadata": {
    "collapsed": true
   },
   "outputs": [],
   "source": [
    "# asi vemos que en proporcion sobrevivieron más niños que adultos.\n",
    "# Tambien vemos que de tercera edad todos murieron\n",
    "\n",
    "# por ello deducimos que la edad tiene influencia en el resultado final. Lo anotamos"
   ]
  },
  {
   "cell_type": "code",
   "execution_count": 41,
   "metadata": {
    "collapsed": false
   },
   "outputs": [
    {
     "data": {
      "text/plain": [
       "<matplotlib.axes._subplots.AxesSubplot at 0x20b0eba6d30>"
      ]
     },
     "execution_count": 41,
     "metadata": {},
     "output_type": "execute_result"
    },
    {
     "data": {
      "image/png": "[encoded data removed]",
      "text/plain": [
       "<matplotlib.figure.Figure at 0x20b0efb3400>"
      ]
     },
     "metadata": {},
     "output_type": "display_data"
    }
   ],
   "source": [
    "# Miramos ahora la relacion entre clase del pasaje y supervivencia\n",
    "\n",
    "graf = pd.crosstab(titanic.pclass, titanic.survived)\n",
    "graf.plot(kind='bar', stacked=True, color=['blue','green','red' ], grid=False)"
   ]
  },
  {
   "cell_type": "code",
   "execution_count": 92,
   "metadata": {
    "collapsed": false
   },
   "outputs": [
    {
     "data": {
      "image/png": "[encoded data removed]",
      "text/plain": [
       "<matplotlib.figure.Figure at 0x20b10c9d2e8>"
      ]
     },
     "metadata": {},
     "output_type": "display_data"
    }
   ],
   "source": [
    "import matplotlib.pyplot as plt\n",
    "%matplotlib inline\n",
    "plt.hist(titanic['pclass'][titanic['survived'] == 1], bins=15, histtype='bar', color='red', label='age (sobrevivió=1)') \n",
    "plt.hist(titanic['pclass'][titanic['survived'] == 0], bins=30, histtype='bar', color='black', label='age (Murió=0)', alpha=0.5)\n",
    "plt.title('Clase del pasaje y supervivencia')\n",
    "plt.legend()\n",
    "plt.show()"
   ]
  },
  {
   "cell_type": "code",
   "execution_count": null,
   "metadata": {
    "collapsed": true
   },
   "outputs": [],
   "source": [
    "# Aquí nuevamente vemos una clara relación en cuanto cuanto mejor era la clase del pasaje mayor posibilidades de supervvivencia\n",
    "# en Primera sobrevivieron más de os que murieron\n",
    "# en segunda murieron unos pocos más de los que sobrevivieron\n",
    "# en tercera...\n",
    "\n",
    "# it´s good to be rich !!!"
   ]
  },
  {
   "cell_type": "code",
   "execution_count": 42,
   "metadata": {
    "collapsed": false
   },
   "outputs": [
    {
     "data": {
      "text/plain": [
       "<matplotlib.axes._subplots.AxesSubplot at 0x20b0f017be0>"
      ]
     },
     "execution_count": 42,
     "metadata": {},
     "output_type": "execute_result"
    },
    {
     "data": {
      "image/png": "[encoded data removed]",
      "text/plain": [
       "<matplotlib.figure.Figure at 0x20b0efe1470>"
      ]
     },
     "metadata": {},
     "output_type": "display_data"
    }
   ],
   "source": [
    "# Le toca el turno a la relacion entre el sexo del pasajaro y supervivencia\n",
    "\n",
    "graf = pd.crosstab(titanic.sex, titanic.survived)\n",
    "graf.plot(kind='bar', stacked=True, color=['blue','green','red' ], grid=False)"
   ]
  },
  {
   "cell_type": "code",
   "execution_count": null,
   "metadata": {
    "collapsed": true
   },
   "outputs": [],
   "source": [
    "# aquí esta claro que los hombres llevamos las de perder...."
   ]
  },
  {
   "cell_type": "code",
   "execution_count": 43,
   "metadata": {
    "collapsed": false
   },
   "outputs": [
    {
     "data": {
      "text/plain": [
       "<matplotlib.axes._subplots.AxesSubplot at 0x20b0eb96470>"
      ]
     },
     "execution_count": 43,
     "metadata": {},
     "output_type": "execute_result"
    },
    {
     "data": {
      "image/png": "[encoded data removed]",
      "text/plain": [
       "<matplotlib.figure.Figure at 0x20b0b504550>"
      ]
     },
     "metadata": {},
     "output_type": "display_data"
    }
   ],
   "source": [
    "# Y ahora la relacion entre cuantos hermanos o conyuje tiene en el barco  y supervivencia\n",
    "\n",
    "graf = pd.crosstab(titanic.sibsp, titanic.survived)\n",
    "graf.plot(kind='bar', stacked=True, color=['blue','green','red' ], grid=False)"
   ]
  },
  {
   "cell_type": "code",
   "execution_count": 101,
   "metadata": {
    "collapsed": false
   },
   "outputs": [
    {
     "data": {
      "image/png": "[encoded data removed]",
      "text/plain": [
       "<matplotlib.figure.Figure at 0x20b0f5a6588>"
      ]
     },
     "metadata": {},
     "output_type": "display_data"
    }
   ],
   "source": [
    "import matplotlib.pyplot as plt\n",
    "%matplotlib inline\n",
    "plt.hist(titanic['sibsp'][titanic['survived'] == 1], bins=20, histtype='bar', color='black', label='age (sobrevivió=1)') \n",
    "plt.hist(titanic['sibsp'][titanic['survived'] == 0], bins=30, histtype='bar', color='red', label='age (murió=0)', alpha=0.5)\n",
    "plt.title('Hermanos/pareja y supervivencia')\n",
    "plt.legend()\n",
    "plt.show()"
   ]
  },
  {
   "cell_type": "code",
   "execution_count": null,
   "metadata": {
    "collapsed": true
   },
   "outputs": [],
   "source": [
    "# parece que hay una ligera relacion:\n",
    "# si ibas en pareja o con 1 o 2 hermanos tenias más posibilidad de sobrevivir que si ibas solo"
   ]
  },
  {
   "cell_type": "code",
   "execution_count": 44,
   "metadata": {
    "collapsed": false,
    "scrolled": false
   },
   "outputs": [
    {
     "data": {
      "text/plain": [
       "<matplotlib.axes._subplots.AxesSubplot at 0x20b0b50e128>"
      ]
     },
     "execution_count": 44,
     "metadata": {},
     "output_type": "execute_result"
    },
    {
     "data": {
      "image/png": "[encoded data removed]",
      "text/plain": [
       "<matplotlib.figure.Figure at 0x20b0b879b38>"
      ]
     },
     "metadata": {},
     "output_type": "display_data"
    }
   ],
   "source": [
    "# Así pintamos la relacion entre cuantos niños o padres tiene en el barco  y supervivencia\n",
    "\n",
    "graf = pd.crosstab(titanic.parch, titanic.survived)\n",
    "graf.plot(kind='bar', stacked=True, color=['blue','green','red' ], grid=False)"
   ]
  },
  {
   "cell_type": "code",
   "execution_count": 103,
   "metadata": {
    "collapsed": false
   },
   "outputs": [
    {
     "data": {
      "image/png": "[encoded data removed]",
      "text/plain": [
       "<matplotlib.figure.Figure at 0x20b11244048>"
      ]
     },
     "metadata": {},
     "output_type": "display_data"
    }
   ],
   "source": [
    "import matplotlib.pyplot as plt\n",
    "%matplotlib inline\n",
    "plt.hist(titanic['parch'][titanic['survived'] == 1], bins=15, histtype='bar', color='black', label='age (ssobrevivió=1)') \n",
    "plt.hist(titanic['parch'][titanic['survived'] == 0], bins=30, histtype='bar', color='red', label='age (murió=0)', alpha=0.5)\n",
    "plt.title('Hijos/Padres y supervivencia')\n",
    "plt.legend()\n",
    "plt.show()"
   ]
  },
  {
   "cell_type": "code",
   "execution_count": 58,
   "metadata": {
    "collapsed": true
   },
   "outputs": [],
   "source": [
    "# parece que hay una relacion:\n",
    "# si tenias 1 o 2 niños o padre en el titanic tenias más posibilidad de sobrevivir que si ibas solo"
   ]
  },
  {
   "cell_type": "code",
   "execution_count": null,
   "metadata": {
    "collapsed": false
   },
   "outputs": [],
   "source": [
    "# Por eso las variables que vamos a tomar son:\n",
    "# Edad\n",
    "# Sexo\n",
    "# Clase del billete\n",
    "# Si tiene parientes\n",
    "# Si tiene niños/padre"
   ]
  },
  {
   "cell_type": "code",
   "execution_count": 104,
   "metadata": {
    "collapsed": false
   },
   "outputs": [
    {
     "data": {
      "text/html": [
       "<div>\n",
       "<table border=\"1\" class=\"dataframe\">\n",
       "  <thead>\n",
       "    <tr style=\"text-align: right;\">\n",
       "      <th></th>\n",
       "      <th>pclass</th>\n",
       "      <th>survived</th>\n",
       "      <th>sex</th>\n",
       "      <th>age</th>\n",
       "      <th>sibsp</th>\n",
       "      <th>parch</th>\n",
       "      <th>fare</th>\n",
       "      <th>Age_Agregado</th>\n",
       "    </tr>\n",
       "  </thead>\n",
       "  <tbody>\n",
       "    <tr>\n",
       "      <th>0</th>\n",
       "      <td>1</td>\n",
       "      <td>1</td>\n",
       "      <td>female</td>\n",
       "      <td>29.00</td>\n",
       "      <td>0</td>\n",
       "      <td>0</td>\n",
       "      <td>211.3375</td>\n",
       "      <td>adultos</td>\n",
       "    </tr>\n",
       "    <tr>\n",
       "      <th>1</th>\n",
       "      <td>1</td>\n",
       "      <td>1</td>\n",
       "      <td>male</td>\n",
       "      <td>0.92</td>\n",
       "      <td>1</td>\n",
       "      <td>2</td>\n",
       "      <td>151.5500</td>\n",
       "      <td>Niños</td>\n",
       "    </tr>\n",
       "    <tr>\n",
       "      <th>2</th>\n",
       "      <td>1</td>\n",
       "      <td>0</td>\n",
       "      <td>female</td>\n",
       "      <td>2.00</td>\n",
       "      <td>1</td>\n",
       "      <td>2</td>\n",
       "      <td>151.5500</td>\n",
       "      <td>Niños</td>\n",
       "    </tr>\n",
       "    <tr>\n",
       "      <th>3</th>\n",
       "      <td>1</td>\n",
       "      <td>0</td>\n",
       "      <td>male</td>\n",
       "      <td>30.00</td>\n",
       "      <td>1</td>\n",
       "      <td>2</td>\n",
       "      <td>151.5500</td>\n",
       "      <td>adultos</td>\n",
       "    </tr>\n",
       "    <tr>\n",
       "      <th>4</th>\n",
       "      <td>1</td>\n",
       "      <td>0</td>\n",
       "      <td>female</td>\n",
       "      <td>25.00</td>\n",
       "      <td>1</td>\n",
       "      <td>2</td>\n",
       "      <td>151.5500</td>\n",
       "      <td>adultos</td>\n",
       "    </tr>\n",
       "  </tbody>\n",
       "</table>\n",
       "</div>"
      ],
      "text/plain": [
       "   pclass  survived     sex    age  sibsp  parch      fare Age_Agregado\n",
       "0       1         1  female  29.00      0      0  211.3375      adultos\n",
       "1       1         1    male   0.92      1      2  151.5500        Niños\n",
       "2       1         0  female   2.00      1      2  151.5500        Niños\n",
       "3       1         0    male  30.00      1      2  151.5500      adultos\n",
       "4       1         0  female  25.00      1      2  151.5500      adultos"
      ]
     },
     "execution_count": 104,
     "metadata": {},
     "output_type": "execute_result"
    }
   ],
   "source": [
    "titanic.head()"
   ]
  },
  {
   "cell_type": "code",
   "execution_count": 105,
   "metadata": {
    "collapsed": true
   },
   "outputs": [],
   "source": [
    "# Eliminamos fare por los motivos anteriormente explicados\n",
    "\n",
    "del titanic['fare']"
   ]
  },
  {
   "cell_type": "code",
   "execution_count": 106,
   "metadata": {
    "collapsed": false
   },
   "outputs": [
    {
     "data": {
      "text/html": [
       "<div>\n",
       "<table border=\"1\" class=\"dataframe\">\n",
       "  <thead>\n",
       "    <tr style=\"text-align: right;\">\n",
       "      <th></th>\n",
       "      <th>pclass</th>\n",
       "      <th>survived</th>\n",
       "      <th>sex</th>\n",
       "      <th>age</th>\n",
       "      <th>sibsp</th>\n",
       "      <th>parch</th>\n",
       "      <th>Age_Agregado</th>\n",
       "    </tr>\n",
       "  </thead>\n",
       "  <tbody>\n",
       "    <tr>\n",
       "      <th>0</th>\n",
       "      <td>1</td>\n",
       "      <td>1</td>\n",
       "      <td>female</td>\n",
       "      <td>29.00</td>\n",
       "      <td>0</td>\n",
       "      <td>0</td>\n",
       "      <td>adultos</td>\n",
       "    </tr>\n",
       "    <tr>\n",
       "      <th>1</th>\n",
       "      <td>1</td>\n",
       "      <td>1</td>\n",
       "      <td>male</td>\n",
       "      <td>0.92</td>\n",
       "      <td>1</td>\n",
       "      <td>2</td>\n",
       "      <td>Niños</td>\n",
       "    </tr>\n",
       "    <tr>\n",
       "      <th>2</th>\n",
       "      <td>1</td>\n",
       "      <td>0</td>\n",
       "      <td>female</td>\n",
       "      <td>2.00</td>\n",
       "      <td>1</td>\n",
       "      <td>2</td>\n",
       "      <td>Niños</td>\n",
       "    </tr>\n",
       "    <tr>\n",
       "      <th>3</th>\n",
       "      <td>1</td>\n",
       "      <td>0</td>\n",
       "      <td>male</td>\n",
       "      <td>30.00</td>\n",
       "      <td>1</td>\n",
       "      <td>2</td>\n",
       "      <td>adultos</td>\n",
       "    </tr>\n",
       "    <tr>\n",
       "      <th>4</th>\n",
       "      <td>1</td>\n",
       "      <td>0</td>\n",
       "      <td>female</td>\n",
       "      <td>25.00</td>\n",
       "      <td>1</td>\n",
       "      <td>2</td>\n",
       "      <td>adultos</td>\n",
       "    </tr>\n",
       "  </tbody>\n",
       "</table>\n",
       "</div>"
      ],
      "text/plain": [
       "   pclass  survived     sex    age  sibsp  parch Age_Agregado\n",
       "0       1         1  female  29.00      0      0      adultos\n",
       "1       1         1    male   0.92      1      2        Niños\n",
       "2       1         0  female   2.00      1      2        Niños\n",
       "3       1         0    male  30.00      1      2      adultos\n",
       "4       1         0  female  25.00      1      2      adultos"
      ]
     },
     "execution_count": 106,
     "metadata": {},
     "output_type": "execute_result"
    }
   ],
   "source": [
    "# nos queda:\n",
    "\n",
    "titanic.head()"
   ]
  },
  {
   "cell_type": "code",
   "execution_count": 107,
   "metadata": {
    "collapsed": true
   },
   "outputs": [],
   "source": [
    "# vamos a hacer una copia del data frame para trabajar con el nuevo\n",
    "titanic_2 = titanic"
   ]
  },
  {
   "cell_type": "code",
   "execution_count": 108,
   "metadata": {
    "collapsed": false
   },
   "outputs": [
    {
     "data": {
      "text/html": [
       "<div>\n",
       "<table border=\"1\" class=\"dataframe\">\n",
       "  <thead>\n",
       "    <tr style=\"text-align: right;\">\n",
       "      <th></th>\n",
       "      <th>pclass</th>\n",
       "      <th>survived</th>\n",
       "      <th>sex</th>\n",
       "      <th>age</th>\n",
       "      <th>sibsp</th>\n",
       "      <th>parch</th>\n",
       "      <th>Age_Agregado</th>\n",
       "    </tr>\n",
       "  </thead>\n",
       "  <tbody>\n",
       "    <tr>\n",
       "      <th>0</th>\n",
       "      <td>1</td>\n",
       "      <td>1</td>\n",
       "      <td>female</td>\n",
       "      <td>29.00</td>\n",
       "      <td>0</td>\n",
       "      <td>0</td>\n",
       "      <td>adultos</td>\n",
       "    </tr>\n",
       "    <tr>\n",
       "      <th>1</th>\n",
       "      <td>1</td>\n",
       "      <td>1</td>\n",
       "      <td>male</td>\n",
       "      <td>0.92</td>\n",
       "      <td>1</td>\n",
       "      <td>2</td>\n",
       "      <td>Niños</td>\n",
       "    </tr>\n",
       "    <tr>\n",
       "      <th>2</th>\n",
       "      <td>1</td>\n",
       "      <td>0</td>\n",
       "      <td>female</td>\n",
       "      <td>2.00</td>\n",
       "      <td>1</td>\n",
       "      <td>2</td>\n",
       "      <td>Niños</td>\n",
       "    </tr>\n",
       "    <tr>\n",
       "      <th>3</th>\n",
       "      <td>1</td>\n",
       "      <td>0</td>\n",
       "      <td>male</td>\n",
       "      <td>30.00</td>\n",
       "      <td>1</td>\n",
       "      <td>2</td>\n",
       "      <td>adultos</td>\n",
       "    </tr>\n",
       "    <tr>\n",
       "      <th>4</th>\n",
       "      <td>1</td>\n",
       "      <td>0</td>\n",
       "      <td>female</td>\n",
       "      <td>25.00</td>\n",
       "      <td>1</td>\n",
       "      <td>2</td>\n",
       "      <td>adultos</td>\n",
       "    </tr>\n",
       "  </tbody>\n",
       "</table>\n",
       "</div>"
      ],
      "text/plain": [
       "   pclass  survived     sex    age  sibsp  parch Age_Agregado\n",
       "0       1         1  female  29.00      0      0      adultos\n",
       "1       1         1    male   0.92      1      2        Niños\n",
       "2       1         0  female   2.00      1      2        Niños\n",
       "3       1         0    male  30.00      1      2      adultos\n",
       "4       1         0  female  25.00      1      2      adultos"
      ]
     },
     "execution_count": 108,
     "metadata": {},
     "output_type": "execute_result"
    }
   ],
   "source": [
    "titanic_2.head()"
   ]
  },
  {
   "cell_type": "code",
   "execution_count": 112,
   "metadata": {
    "collapsed": false
   },
   "outputs": [],
   "source": [
    "# eliminamos variable continua de edad, y utilizaremos la de la edad agregadoo\n",
    "del titanic['age']"
   ]
  },
  {
   "cell_type": "code",
   "execution_count": 117,
   "metadata": {
    "collapsed": false
   },
   "outputs": [
    {
     "data": {
      "text/html": [
       "<div>\n",
       "<table border=\"1\" class=\"dataframe\">\n",
       "  <thead>\n",
       "    <tr style=\"text-align: right;\">\n",
       "      <th></th>\n",
       "      <th>pclass</th>\n",
       "      <th>survived</th>\n",
       "      <th>sex</th>\n",
       "      <th>sibsp</th>\n",
       "      <th>parch</th>\n",
       "      <th>Age_Agregado</th>\n",
       "    </tr>\n",
       "  </thead>\n",
       "  <tbody>\n",
       "    <tr>\n",
       "      <th>0</th>\n",
       "      <td>1</td>\n",
       "      <td>1</td>\n",
       "      <td>female</td>\n",
       "      <td>0</td>\n",
       "      <td>0</td>\n",
       "      <td>adultos</td>\n",
       "    </tr>\n",
       "    <tr>\n",
       "      <th>1</th>\n",
       "      <td>1</td>\n",
       "      <td>1</td>\n",
       "      <td>male</td>\n",
       "      <td>1</td>\n",
       "      <td>2</td>\n",
       "      <td>Niños</td>\n",
       "    </tr>\n",
       "    <tr>\n",
       "      <th>2</th>\n",
       "      <td>1</td>\n",
       "      <td>0</td>\n",
       "      <td>female</td>\n",
       "      <td>1</td>\n",
       "      <td>2</td>\n",
       "      <td>Niños</td>\n",
       "    </tr>\n",
       "    <tr>\n",
       "      <th>3</th>\n",
       "      <td>1</td>\n",
       "      <td>0</td>\n",
       "      <td>male</td>\n",
       "      <td>1</td>\n",
       "      <td>2</td>\n",
       "      <td>adultos</td>\n",
       "    </tr>\n",
       "    <tr>\n",
       "      <th>4</th>\n",
       "      <td>1</td>\n",
       "      <td>0</td>\n",
       "      <td>female</td>\n",
       "      <td>1</td>\n",
       "      <td>2</td>\n",
       "      <td>adultos</td>\n",
       "    </tr>\n",
       "  </tbody>\n",
       "</table>\n",
       "</div>"
      ],
      "text/plain": [
       "   pclass  survived     sex  sibsp  parch Age_Agregado\n",
       "0       1         1  female      0      0      adultos\n",
       "1       1         1    male      1      2        Niños\n",
       "2       1         0  female      1      2        Niños\n",
       "3       1         0    male      1      2      adultos\n",
       "4       1         0  female      1      2      adultos"
      ]
     },
     "execution_count": 117,
     "metadata": {},
     "output_type": "execute_result"
    }
   ],
   "source": [
    "titanic.head()"
   ]
  },
  {
   "cell_type": "code",
   "execution_count": null,
   "metadata": {
    "collapsed": true
   },
   "outputs": [],
   "source": [
    "# Ahora solo tenemos variables categóricas"
   ]
  },
  {
   "cell_type": "code",
   "execution_count": 115,
   "metadata": {
    "collapsed": false
   },
   "outputs": [
    {
     "data": {
      "text/html": [
       "<div>\n",
       "<table border=\"1\" class=\"dataframe\">\n",
       "  <thead>\n",
       "    <tr style=\"text-align: right;\">\n",
       "      <th></th>\n",
       "      <th>survived</th>\n",
       "      <th>pclass</th>\n",
       "      <th>sex</th>\n",
       "      <th>Age_Agregado</th>\n",
       "      <th>sibsp</th>\n",
       "      <th>parch</th>\n",
       "    </tr>\n",
       "  </thead>\n",
       "  <tbody>\n",
       "    <tr>\n",
       "      <th>0</th>\n",
       "      <td>1</td>\n",
       "      <td>1</td>\n",
       "      <td>female</td>\n",
       "      <td>adultos</td>\n",
       "      <td>0</td>\n",
       "      <td>0</td>\n",
       "    </tr>\n",
       "    <tr>\n",
       "      <th>1</th>\n",
       "      <td>1</td>\n",
       "      <td>1</td>\n",
       "      <td>male</td>\n",
       "      <td>Niños</td>\n",
       "      <td>1</td>\n",
       "      <td>2</td>\n",
       "    </tr>\n",
       "    <tr>\n",
       "      <th>2</th>\n",
       "      <td>0</td>\n",
       "      <td>1</td>\n",
       "      <td>female</td>\n",
       "      <td>Niños</td>\n",
       "      <td>1</td>\n",
       "      <td>2</td>\n",
       "    </tr>\n",
       "    <tr>\n",
       "      <th>3</th>\n",
       "      <td>0</td>\n",
       "      <td>1</td>\n",
       "      <td>male</td>\n",
       "      <td>adultos</td>\n",
       "      <td>1</td>\n",
       "      <td>2</td>\n",
       "    </tr>\n",
       "    <tr>\n",
       "      <th>4</th>\n",
       "      <td>0</td>\n",
       "      <td>1</td>\n",
       "      <td>female</td>\n",
       "      <td>adultos</td>\n",
       "      <td>1</td>\n",
       "      <td>2</td>\n",
       "    </tr>\n",
       "  </tbody>\n",
       "</table>\n",
       "</div>"
      ],
      "text/plain": [
       "   survived  pclass     sex Age_Agregado  sibsp  parch\n",
       "0         1       1  female      adultos      0      0\n",
       "1         1       1    male        Niños      1      2\n",
       "2         0       1  female        Niños      1      2\n",
       "3         0       1    male      adultos      1      2\n",
       "4         0       1  female      adultos      1      2"
      ]
     },
     "execution_count": 115,
     "metadata": {},
     "output_type": "execute_result"
    }
   ],
   "source": [
    "#separo en una variable las variables explicativas \n",
    "\n",
    "var_explicativas = titanic[['pclass','sex','Age_Agregado','sibsp','parch']]\n",
    "modelo_titanic = titanic[['survived','pclass','sex','Age_Agregado','sibsp','parch']].copy()\n",
    "modelo_titanic.head()"
   ]
  },
  {
   "cell_type": "code",
   "execution_count": 116,
   "metadata": {
    "collapsed": false
   },
   "outputs": [
    {
     "data": {
      "text/html": [
       "<div>\n",
       "<table border=\"1\" class=\"dataframe\">\n",
       "  <thead>\n",
       "    <tr style=\"text-align: right;\">\n",
       "      <th></th>\n",
       "      <th>survived</th>\n",
       "      <th>pclass_2</th>\n",
       "      <th>pclass_3</th>\n",
       "      <th>sex_male</th>\n",
       "      <th>Age_Agregado_adultos</th>\n",
       "      <th>Age_Agregado_tercera edad</th>\n",
       "      <th>sibsp_1</th>\n",
       "      <th>sibsp_2</th>\n",
       "      <th>sibsp_3</th>\n",
       "      <th>sibsp_4</th>\n",
       "      <th>sibsp_5</th>\n",
       "      <th>sibsp_8</th>\n",
       "      <th>parch_1</th>\n",
       "      <th>parch_2</th>\n",
       "      <th>parch_3</th>\n",
       "      <th>parch_4</th>\n",
       "      <th>parch_5</th>\n",
       "      <th>parch_6</th>\n",
       "    </tr>\n",
       "  </thead>\n",
       "  <tbody>\n",
       "    <tr>\n",
       "      <th>0</th>\n",
       "      <td>1</td>\n",
       "      <td>0.0</td>\n",
       "      <td>0.0</td>\n",
       "      <td>0.0</td>\n",
       "      <td>1.0</td>\n",
       "      <td>0.0</td>\n",
       "      <td>0.0</td>\n",
       "      <td>0.0</td>\n",
       "      <td>0.0</td>\n",
       "      <td>0.0</td>\n",
       "      <td>0.0</td>\n",
       "      <td>0.0</td>\n",
       "      <td>0.0</td>\n",
       "      <td>0.0</td>\n",
       "      <td>0.0</td>\n",
       "      <td>0.0</td>\n",
       "      <td>0.0</td>\n",
       "      <td>0.0</td>\n",
       "    </tr>\n",
       "    <tr>\n",
       "      <th>1</th>\n",
       "      <td>1</td>\n",
       "      <td>0.0</td>\n",
       "      <td>0.0</td>\n",
       "      <td>1.0</td>\n",
       "      <td>0.0</td>\n",
       "      <td>0.0</td>\n",
       "      <td>1.0</td>\n",
       "      <td>0.0</td>\n",
       "      <td>0.0</td>\n",
       "      <td>0.0</td>\n",
       "      <td>0.0</td>\n",
       "      <td>0.0</td>\n",
       "      <td>0.0</td>\n",
       "      <td>1.0</td>\n",
       "      <td>0.0</td>\n",
       "      <td>0.0</td>\n",
       "      <td>0.0</td>\n",
       "      <td>0.0</td>\n",
       "    </tr>\n",
       "    <tr>\n",
       "      <th>2</th>\n",
       "      <td>0</td>\n",
       "      <td>0.0</td>\n",
       "      <td>0.0</td>\n",
       "      <td>0.0</td>\n",
       "      <td>0.0</td>\n",
       "      <td>0.0</td>\n",
       "      <td>1.0</td>\n",
       "      <td>0.0</td>\n",
       "      <td>0.0</td>\n",
       "      <td>0.0</td>\n",
       "      <td>0.0</td>\n",
       "      <td>0.0</td>\n",
       "      <td>0.0</td>\n",
       "      <td>1.0</td>\n",
       "      <td>0.0</td>\n",
       "      <td>0.0</td>\n",
       "      <td>0.0</td>\n",
       "      <td>0.0</td>\n",
       "    </tr>\n",
       "    <tr>\n",
       "      <th>3</th>\n",
       "      <td>0</td>\n",
       "      <td>0.0</td>\n",
       "      <td>0.0</td>\n",
       "      <td>1.0</td>\n",
       "      <td>1.0</td>\n",
       "      <td>0.0</td>\n",
       "      <td>1.0</td>\n",
       "      <td>0.0</td>\n",
       "      <td>0.0</td>\n",
       "      <td>0.0</td>\n",
       "      <td>0.0</td>\n",
       "      <td>0.0</td>\n",
       "      <td>0.0</td>\n",
       "      <td>1.0</td>\n",
       "      <td>0.0</td>\n",
       "      <td>0.0</td>\n",
       "      <td>0.0</td>\n",
       "      <td>0.0</td>\n",
       "    </tr>\n",
       "    <tr>\n",
       "      <th>4</th>\n",
       "      <td>0</td>\n",
       "      <td>0.0</td>\n",
       "      <td>0.0</td>\n",
       "      <td>0.0</td>\n",
       "      <td>1.0</td>\n",
       "      <td>0.0</td>\n",
       "      <td>1.0</td>\n",
       "      <td>0.0</td>\n",
       "      <td>0.0</td>\n",
       "      <td>0.0</td>\n",
       "      <td>0.0</td>\n",
       "      <td>0.0</td>\n",
       "      <td>0.0</td>\n",
       "      <td>1.0</td>\n",
       "      <td>0.0</td>\n",
       "      <td>0.0</td>\n",
       "      <td>0.0</td>\n",
       "      <td>0.0</td>\n",
       "    </tr>\n",
       "  </tbody>\n",
       "</table>\n",
       "</div>"
      ],
      "text/plain": [
       "   survived  pclass_2  pclass_3  sex_male  Age_Agregado_adultos  \\\n",
       "0         1       0.0       0.0       0.0                   1.0   \n",
       "1         1       0.0       0.0       1.0                   0.0   \n",
       "2         0       0.0       0.0       0.0                   0.0   \n",
       "3         0       0.0       0.0       1.0                   1.0   \n",
       "4         0       0.0       0.0       0.0                   1.0   \n",
       "\n",
       "   Age_Agregado_tercera edad  sibsp_1  sibsp_2  sibsp_3  sibsp_4  sibsp_5  \\\n",
       "0                        0.0      0.0      0.0      0.0      0.0      0.0   \n",
       "1                        0.0      1.0      0.0      0.0      0.0      0.0   \n",
       "2                        0.0      1.0      0.0      0.0      0.0      0.0   \n",
       "3                        0.0      1.0      0.0      0.0      0.0      0.0   \n",
       "4                        0.0      1.0      0.0      0.0      0.0      0.0   \n",
       "\n",
       "   sibsp_8  parch_1  parch_2  parch_3  parch_4  parch_5  parch_6  \n",
       "0      0.0      0.0      0.0      0.0      0.0      0.0      0.0  \n",
       "1      0.0      0.0      1.0      0.0      0.0      0.0      0.0  \n",
       "2      0.0      0.0      1.0      0.0      0.0      0.0      0.0  \n",
       "3      0.0      0.0      1.0      0.0      0.0      0.0      0.0  \n",
       "4      0.0      0.0      1.0      0.0      0.0      0.0      0.0  "
      ]
     },
     "execution_count": 116,
     "metadata": {},
     "output_type": "execute_result"
    }
   ],
   "source": [
    "# separamos las variables categóticas en binarias.\n",
    "\n",
    "for var in var_explicativas:\n",
    "    dummie = pd.get_dummies(modelo_titanic[var], prefix = var)\n",
    "    names = list(dummie.columns)\n",
    "    names.remove(names[0])\n",
    "    modelo_titanic = pd.concat([modelo_titanic, dummie[names]], axis = 1)\n",
    "    names = list(modelo_titanic.columns)\n",
    "    names.remove(var)\n",
    "    modelo_titanic = modelo_titanic[names]\n",
    "    \n",
    "modelo_titanic.head(5)"
   ]
  },
  {
   "cell_type": "code",
   "execution_count": 119,
   "metadata": {
    "collapsed": false
   },
   "outputs": [
    {
     "name": "stdout",
     "output_type": "stream",
     "text": [
      "El valor del VIF para la variable pclass_2 es: 1.48986376229\n",
      "El valor del VIF para la variable pclass_3 es: 1.65193662645\n",
      "El valor del VIF para la variable sex_male es: 1.1095663722\n",
      "El valor del VIF para la variable Age_Agregado_adultos es: 2.09878971724\n",
      "El valor del VIF para la variable Age_Agregado_tercera edad es: 1.63966949488\n",
      "El valor del VIF para la variable sibsp_1 es: 1.22034967418\n",
      "El valor del VIF para la variable sibsp_2 es: 1.04358754075\n",
      "El valor del VIF para la variable sibsp_3 es: 1.09465818085\n",
      "El valor del VIF para la variable sibsp_4 es: 1.2485123175\n",
      "El valor del VIF para la variable sibsp_5 es: 1.100277654\n",
      "El valor del VIF para la variable sibsp_8 es: 1.01805730819\n",
      "El valor del VIF para la variable parch_1 es: 1.38788063794\n",
      "El valor del VIF para la variable parch_2 es: 1.46261243049\n",
      "El valor del VIF para la variable parch_3 es: 1.02337709477\n",
      "El valor del VIF para la variable parch_4 es: 1.01981058668\n",
      "El valor del VIF para la variable parch_5 es: 1.02218343214\n",
      "El valor del VIF para la variable parch_6 es: 1.01192394116\n"
     ]
    }
   ],
   "source": [
    "# vamos a aplicar un análisis de colinealidad, es decir ver si alguna de las variables que hemmos seleccionados estan\n",
    "# relacionadas entre sí de una formma lineal (es que podemos explicar dos variables de nuestro modello entre si con una función)\n",
    "\n",
    "from sklearn.linear_model import LinearRegression\n",
    "\n",
    "\n",
    "titanic_vif = modelo_titanic.copy(deep = True)\n",
    "features = list(titanic_vif.columns)\n",
    "features.remove('survived')\n",
    "titanic_vif = titanic_vif[features]\n",
    "\n",
    "for i in range(len(features)):\n",
    "    var = features[i]\n",
    "    fet = features[:]\n",
    "    fet.remove(var)\n",
    "    \n",
    "    x = titanic_vif[fet]\n",
    "    y = modelo_titanic[var]\n",
    "    \n",
    "    model = LinearRegression()\n",
    "    model.fit(x, y)\n",
    "    \n",
    "    vif = 1 / (1 - model.score(x, y))\n",
    "    \n",
    "    print ('El valor del VIF para la variable', var, 'es:', vif)\n",
    "\n"
   ]
  },
  {
   "cell_type": "code",
   "execution_count": null,
   "metadata": {
    "collapsed": true
   },
   "outputs": [],
   "source": [
    "# como ninguna es mayor de 5, pues no hay variable colieales"
   ]
  },
  {
   "cell_type": "code",
   "execution_count": null,
   "metadata": {
    "collapsed": true
   },
   "outputs": [],
   "source": [
    "# Ahora vamoss a hacer la comprobación de cual/cuanto es el valor explicativo de las variables. Es decir como de directa\n",
    "# es la fuerza de la relación con la variable objetivo (vamos que si influye mucho el resultado o no)"
   ]
  },
  {
   "cell_type": "code",
   "execution_count": 124,
   "metadata": {
    "collapsed": true
   },
   "outputs": [],
   "source": [
    "var_categoricas = ['pclass_2','pclass_3','sex_male','Age_Agregado_adultos','Age_Agregado_tercera edad','sibsp_1','sibsp_2','sibsp_3','sibsp_4','sibsp_5','sibsp_8','parch_1','parch_2','parch_3','parch_4','parch_5','parch_6']\n",
    "var_target      = modelo_titanic['survived']"
   ]
  },
  {
   "cell_type": "code",
   "execution_count": 125,
   "metadata": {
    "collapsed": false
   },
   "outputs": [
    {
     "name": "stdout",
     "output_type": "stream",
     "text": [
      "La variable pclass_2 el IV es 0.112833168159\n",
      "La variable pclass_3 el IV es 0.507856484462\n",
      "La variable sex_male el IV es 1.35855179749\n",
      "La variable Age_Agregado_adultos el IV es 0.0858329862781\n",
      "La variable Age_Agregado_tercera edad el IV es 0.609598809588\n",
      "La variable sibsp_1 el IV es 0.152218099715\n",
      "La variable sibsp_2 el IV es 0.0942927763658\n",
      "La variable sibsp_3 el IV es 0.194499761655\n",
      "La variable sibsp_4 el IV es 1.4015273536\n",
      "La variable sibsp_5 el IV es 0.0640908852911\n",
      "La variable sibsp_8 el IV es 0.0669886513684\n",
      "La variable parch_1 el IV es 0.198565931421\n",
      "La variable parch_2 el IV es 0.130224461705\n",
      "La variable parch_3 el IV es 0.197800014502\n",
      "La variable parch_4 el IV es 0.897857818011\n",
      "La variable parch_5 el IV es 1.13845820912\n",
      "La variable parch_6 el IV es 0.0664060379747\n"
     ]
    }
   ],
   "source": [
    "from sklearn.linear_model.logistic import LogisticRegression\n",
    "\n",
    "result_IV = []\n",
    "\n",
    "for v_cat in var_categoricas:\n",
    "    var_target = array(var_target)\n",
    "    var_values = array(modelo_titanic[v_cat])\n",
    "    var_levels = unique(var_values)\n",
    "\n",
    "    mat_values = numpy.zeros(shape=(len(var_levels),2))\n",
    "\n",
    "    for i in range(len(var_target)):\n",
    "        \n",
    "        # Obtención de la posición en los niveles del valor\n",
    "        for j in range(len(var_levels)):\n",
    "            if var_levels[j] == var_values[i]:\n",
    "                pos = j\n",
    "                break\n",
    "\n",
    "        # Estimación del número valores en cada nivel\n",
    "        if var_target[i]:\n",
    "            mat_values[pos][0] += 1\n",
    "        else:\n",
    "            mat_values[pos][1] += 1\n",
    "\n",
    "        # Obtención del IV\n",
    "        IV = 0\n",
    "        for j in range(len(var_levels)):\n",
    "            if mat_values[j][0] > 0 and mat_values[j][1] > 0:\n",
    "                rt = mat_values[j][0] / (mat_values[j][0] + mat_values[j][1])\n",
    "                rf = mat_values[j][1] / (mat_values[j][0] + mat_values[j][1])\n",
    "                IV += (rt - rf) * np.log(rt / rf)\n",
    "        \n",
    "    # Se agrega el IV al listado\n",
    "    \n",
    "    result_IV.append(IV)\n",
    "\n",
    "for i in range(len(var_categoricas)):\n",
    "    print (\"La variable\", var_categoricas[i], \"el IV es\", result_IV[i])"
   ]
  },
  {
   "cell_type": "code",
   "execution_count": null,
   "metadata": {
    "collapsed": true
   },
   "outputs": [],
   "source": [
    "# aquí tenemos que descartar las que sean menor de 0,5 así nos quedamos con:\n",
    "# si viaja en 3ª - pclass_3\n",
    "# si es hombre - sex_male\n",
    "# si es de la tercera edad - Age_Agregado_tercera edad\n",
    "# si tiene cuatros hermano o conyuge - sibsp_4\n",
    "# si tiene cuatro hijos o padres - parch_4\n",
    "# si tiene cinco hijos o padres - parch_5"
   ]
  },
  {
   "cell_type": "code",
   "execution_count": 126,
   "metadata": {
    "collapsed": false
   },
   "outputs": [
    {
     "name": "stdout",
     "output_type": "stream",
     "text": [
      "pclass\n",
      "Precisión: 0.666028708134\n",
      "Exactitud: 0.423887587822\n",
      "Exhaustividad: 0.637323943662\n",
      "sex\n",
      "Precisión: 0.778947368421\n",
      "Exactitud: 0.683840749415\n",
      "Exhaustividad: 0.752577319588\n",
      "Age_Agregado\n",
      "Precisión: 0.601913875598\n",
      "Exactitud: 0.11943793911\n",
      "Exhaustividad: 0.56043956044\n",
      "sibsp\n",
      "Precisión: 0.604784688995\n",
      "Exactitud: 0.344262295082\n",
      "Exhaustividad: 0.525\n",
      "parch\n",
      "Precisión: 0.634449760766\n",
      "Exactitud: 0.36299765808\n",
      "Exhaustividad: 0.584905660377\n"
     ]
    }
   ],
   "source": [
    "from sklearn.linear_model.logistic import LogisticRegression\n",
    "from sklearn.metrics import accuracy_score, auc, confusion_matrix, f1_score, precision_score, recall_score, roc_curve\n",
    "\n",
    "# Creación de modelos basados en variables binarias\n",
    "\n",
    "var_categoricas = ['pclass', 'sex', 'Age_Agregado', 'sibsp', 'parch']\n",
    "var_numericas   = []\n",
    "var_target      = titanic['survived'] \n",
    "\n",
    "for v_cat in var_categoricas:\n",
    "    dum_var    = pd.get_dummies(titanic[v_cat])\n",
    "    features   = list(dum_var.columns)\n",
    "    features.remove(features[1])\n",
    "    classifier = LogisticRegression().fit(dum_var, var_target)\n",
    "    y_pred     = classifier.predict(dum_var)\n",
    "    \n",
    "    print (v_cat)\n",
    "    print ('Precisión:', accuracy_score(y_pred, var_target))\n",
    "    print ('Exactitud:', precision_score(y_pred, var_target))\n",
    "    print ('Exhaustividad:', recall_score(y_pred, var_target))"
   ]
  },
  {
   "cell_type": "code",
   "execution_count": 127,
   "metadata": {
    "collapsed": false
   },
   "outputs": [
    {
     "data": {
      "text/html": [
       "<div>\n",
       "<table border=\"1\" class=\"dataframe\">\n",
       "  <thead>\n",
       "    <tr style=\"text-align: right;\">\n",
       "      <th></th>\n",
       "      <th>survived</th>\n",
       "      <th>sex_male</th>\n",
       "      <th>pclass_3</th>\n",
       "      <th>Age_Agregado_tercera edad</th>\n",
       "      <th>sibsp_4</th>\n",
       "      <th>parch_4</th>\n",
       "      <th>parch_5</th>\n",
       "    </tr>\n",
       "  </thead>\n",
       "  <tbody>\n",
       "    <tr>\n",
       "      <th>0</th>\n",
       "      <td>1</td>\n",
       "      <td>0.0</td>\n",
       "      <td>0.0</td>\n",
       "      <td>0.0</td>\n",
       "      <td>0.0</td>\n",
       "      <td>0.0</td>\n",
       "      <td>0.0</td>\n",
       "    </tr>\n",
       "    <tr>\n",
       "      <th>1</th>\n",
       "      <td>1</td>\n",
       "      <td>1.0</td>\n",
       "      <td>0.0</td>\n",
       "      <td>0.0</td>\n",
       "      <td>0.0</td>\n",
       "      <td>0.0</td>\n",
       "      <td>0.0</td>\n",
       "    </tr>\n",
       "    <tr>\n",
       "      <th>2</th>\n",
       "      <td>0</td>\n",
       "      <td>0.0</td>\n",
       "      <td>0.0</td>\n",
       "      <td>0.0</td>\n",
       "      <td>0.0</td>\n",
       "      <td>0.0</td>\n",
       "      <td>0.0</td>\n",
       "    </tr>\n",
       "    <tr>\n",
       "      <th>3</th>\n",
       "      <td>0</td>\n",
       "      <td>1.0</td>\n",
       "      <td>0.0</td>\n",
       "      <td>0.0</td>\n",
       "      <td>0.0</td>\n",
       "      <td>0.0</td>\n",
       "      <td>0.0</td>\n",
       "    </tr>\n",
       "    <tr>\n",
       "      <th>4</th>\n",
       "      <td>0</td>\n",
       "      <td>0.0</td>\n",
       "      <td>0.0</td>\n",
       "      <td>0.0</td>\n",
       "      <td>0.0</td>\n",
       "      <td>0.0</td>\n",
       "      <td>0.0</td>\n",
       "    </tr>\n",
       "  </tbody>\n",
       "</table>\n",
       "</div>"
      ],
      "text/plain": [
       "   survived  sex_male  pclass_3  Age_Agregado_tercera edad  sibsp_4  parch_4  \\\n",
       "0         1       0.0       0.0                        0.0      0.0      0.0   \n",
       "1         1       1.0       0.0                        0.0      0.0      0.0   \n",
       "2         0       0.0       0.0                        0.0      0.0      0.0   \n",
       "3         0       1.0       0.0                        0.0      0.0      0.0   \n",
       "4         0       0.0       0.0                        0.0      0.0      0.0   \n",
       "\n",
       "   parch_5  \n",
       "0      0.0  \n",
       "1      0.0  \n",
       "2      0.0  \n",
       "3      0.0  \n",
       "4      0.0  "
      ]
     },
     "execution_count": 127,
     "metadata": {},
     "output_type": "execute_result"
    }
   ],
   "source": [
    "modelo_titanic_def = modelo_titanic[['survived','sex_male','pclass_3','Age_Agregado_tercera edad','sibsp_4','parch_4','parch_5']]\n",
    "modelo_titanic_def.head()"
   ]
  },
  {
   "cell_type": "code",
   "execution_count": null,
   "metadata": {
    "collapsed": true
   },
   "outputs": [],
   "source": [
    "# estas son las variables con suficiente fuerza de relacion con la variable del objetivo"
   ]
  },
  {
   "cell_type": "code",
   "execution_count": 129,
   "metadata": {
    "collapsed": false
   },
   "outputs": [],
   "source": [
    "# ahora llevamos al modelo al gimansio a entrenar  :o)\n",
    "\n",
    "# Se separa la población en dos muestras, una para entrenamiento y otra para test\n",
    "\n",
    "from sklearn.cross_validation import train_test_split\n",
    "var_categoricas=['sex_male','pclass_3','Age_Agregado_tercera edad','sibsp_4','parch_4','parch_5']\n",
    "# Obtenemos las muestras de entrenamiento (80%) y test (20%)\n",
    "x = modelo_titanic_def[var_categoricas]\n",
    "y = modelo_titanic_def['survived']\n",
    "x_train, x_test, y_train, y_test = train_test_split(x, y, test_size=0.3)"
   ]
  },
  {
   "cell_type": "code",
   "execution_count": 130,
   "metadata": {
    "collapsed": true
   },
   "outputs": [],
   "source": [
    "from sklearn.linear_model.logistic import LogisticRegression\n",
    "\n",
    "# Primero creamos el modelo\n",
    "\n",
    "rlog = LogisticRegression() \n",
    "\n",
    "# A continuación entrenaremos el modelo\n",
    "\n",
    "classifier = rlog.fit(x_train, y_train) \n",
    "\n",
    "# y obtenemos unas predicciones con la muestra de entrenamiento y con la de test\n",
    "\n",
    "y_predic_train = classifier.predict(x_train) \n",
    "y_predic_test = classifier.predict(x_test)"
   ]
  },
  {
   "cell_type": "code",
   "execution_count": 131,
   "metadata": {
    "collapsed": false
   },
   "outputs": [
    {
     "name": "stdout",
     "output_type": "stream",
     "text": [
      "Accurate train: 0.78\n",
      "Accurate test: 0.79\n"
     ]
    }
   ],
   "source": [
    "# Ahora testeamos la precisión del modelo en ambas muestras\n",
    "\n",
    "train = (y_predic_train == y_train).sum().astype(float) / y_train.shape[0]\n",
    "print(\"Accurate train: {0:.2f}\".format(train))\n",
    "test = (y_predic_test == y_test).sum().astype(float) / y_test.shape[0]\n",
    "print(\"Accurate test: {0:.2f}\".format(test))\n",
    "\n",
    "# y vemos resultados"
   ]
  },
  {
   "cell_type": "code",
   "execution_count": 132,
   "metadata": {
    "collapsed": true
   },
   "outputs": [],
   "source": [
    "# no empeora en test, lo cual significa que el modelo no esta sobre entrenado y es correcto"
   ]
  },
  {
   "cell_type": "code",
   "execution_count": 133,
   "metadata": {
    "collapsed": false
   },
   "outputs": [
    {
     "data": {
      "image/png": "[encoded data removed]",
      "text/plain": [
       "<matplotlib.figure.Figure at 0x20b10dac6a0>"
      ]
     },
     "metadata": {},
     "output_type": "display_data"
    }
   ],
   "source": [
    "# por ultimo comprobamos la idoneidad del modelo con la matriz de confusión\n",
    "\n",
    "cm = confusion_matrix(y_test, y_predic_test)\n",
    "plt.matshow(cm)\n",
    "plt.title('Confusion matrix')\n",
    "plt.colorbar()\n",
    "plt.ylabel('Real')\n",
    "plt.xlabel('Predicted')\n",
    "plt.show()"
   ]
  },
  {
   "cell_type": "code",
   "execution_count": null,
   "metadata": {
    "collapsed": false
   },
   "outputs": [],
   "source": [
    "# el resultado es que la mayor parte de las observaciones coinciden con las previsiones del modelo. Así por ejemplo:\n",
    "# vemos que hay pocas observaciones en las que el modelo ha dicho que sobrevive y en realidad ha muerto (cuadro arriba a la\n",
    "# derecha)\n",
    "# y por contrario hay muchos casos en los que el modelo ha dicho que muere y efectivamente ha muerto (cuadro arriba a la\n",
    "# izquierda)"
   ]
  },
  {
   "cell_type": "code",
   "execution_count": null,
   "metadata": {
    "collapsed": true
   },
   "outputs": [],
   "source": []
  }
 ],
 "metadata": {
  "anaconda-cloud": {},
  "kernelspec": {
   "display_name": "Python [Root]",
   "language": "python",
   "name": "Python [Root]"
  },
  "language_info": {
   "codemirror_mode": {
    "name": "ipython",
    "version": 3
   },
   "file_extension": ".py",
   "mimetype": "text/x-python",
   "name": "python",
   "nbconvert_exporter": "python",
   "pygments_lexer": "ipython3",
   "version": "3.5.2"
  }
 },
 "nbformat": 4,
 "nbformat_minor": 0
}
