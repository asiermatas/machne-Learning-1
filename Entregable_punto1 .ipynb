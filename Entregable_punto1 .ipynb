{
 "cells": [
  {
   "cell_type": "markdown",
   "metadata": {},
   "source": [
    "# Ejercicios Aprendizaje Automático.\n",
    "\n",
    "Instrucciones.\n",
    "\n",
    "La solución de los ejercicios se ha de entregar en un archivo en formato IPython Notebook. Este\n",
    "archivo ha de contener tanto el código necesario para para la resolución de los problemas como\n",
    "los comentarios en los que explican los resultados. Los archivos necesarios para la solución de los\n",
    "problemas se han cargar desde la misma carpeta en la que encuentre el Notebook utilizando\n",
    "siempre rutas relativas.\n",
    "\n",
    "\n",
    "Cada ejercicio tiene una puntuación diferente que se muestra en su enunciado.\n",
    "\n",
    "1. Reglas de asociación. (10 puntos)\n",
    "\n",
    "En el “groceries.csv” contiene las transacciones recogidas durante un mes en una tienda de\n",
    "comestibles. En cada una de las filas de este archivo se encuentran los artículos comprados de\n",
    "forma conjunta por los diferentes clientes. Obtener las lista de artículos que tiene un soporte\n",
    "mínimo de 0,15. Obtener también las reglas de asociación que se pueden deducir de este\n",
    "conjunto de datos con un soporte mínimo de 0,05 y confianza de 0,25.\n",
    "\n",
    "La importación del archivo se puede realizar utilizando el siguiente código:\n",
    "\n",
    "import csv\n",
    "\n",
    "groceries = [ ]\n",
    "\n",
    "groceries_file = csv.reader(open(\"groceries.csv\", \"rb\"))\n",
    "\n",
    "for row in groceries_file:\n",
    "\n",
    "groceries.append(row)"
   ]
  },
  {
   "cell_type": "code",
   "execution_count": 1,
   "metadata": {
    "collapsed": true
   },
   "outputs": [],
   "source": [
    "# Empezmos por importar librerias que vamos a necesias\n",
    "import numpy as np\n",
    "import pandas as pd\n",
    "import csv"
   ]
  },
  {
   "cell_type": "code",
   "execution_count": 8,
   "metadata": {
    "collapsed": false
   },
   "outputs": [
    {
     "data": {
      "text/plain": [
       "[['citrus fruit', 'semi-finished bread', 'margarine', 'ready soups'],\n",
       " ['tropical fruit', 'yogurt', 'coffee'],\n",
       " ['whole milk'],\n",
       " ['pip fruit', 'yogurt', 'cream cheese ', 'meat spreads'],\n",
       " ['other vegetables',\n",
       "  'whole milk',\n",
       "  'condensed milk',\n",
       "  'long life bakery product'],\n",
       " ['whole milk', 'butter', 'yogurt', 'rice', 'abrasive cleaner'],\n",
       " ['rolls/buns'],\n",
       " ['other vegetables',\n",
       "  'UHT-milk',\n",
       "  'rolls/buns',\n",
       "  'bottled beer',\n",
       "  'liquor (appetizer)'],\n",
       " ['pot plants'],\n",
       " ['whole milk', 'cereals']]"
      ]
     },
     "execution_count": 8,
     "metadata": {},
     "output_type": "execute_result"
    }
   ],
   "source": [
    "# Cargamos el fichero CSV que contiene los productos que se han obtenido en cada compra, y lo metemmos en una lista\n",
    "groceries = []\n",
    "groceries_file = csv.reader(open(\"groceries.csv\", \"rb\"))\n",
    "for row in groceries_file:\n",
    "    groceries.append(row)\n",
    "    \n",
    "# vamos a visualizar las 10 primeras entradas de la lista\n",
    "groceries [:10]"
   ]
  },
  {
   "cell_type": "code",
   "execution_count": 9,
   "metadata": {
    "collapsed": false
   },
   "outputs": [],
   "source": [
    "# Para el análisis de la lista neceitaremos tambien iportar la librería apriori.py \n",
    "# con ella podremos utilizar los algoritmos que nos van a dar la información de que articulos tienen un soporte mínimo\n",
    "# especificado por nosotros y la reglas de asociación y confianza\n",
    "\n",
    "import apriori"
   ]
  },
  {
   "cell_type": "code",
   "execution_count": 6,
   "metadata": {
    "collapsed": false
   },
   "outputs": [
    {
     "name": "stdout",
     "output_type": "stream",
     "text": [
      "{soda}:  sup = 0.174\n",
      "{whole milk}:  sup = 0.256\n",
      "{other vegetables}:  sup = 0.193\n",
      "{rolls/buns}:  sup = 0.184\n"
     ]
    }
   ],
   "source": [
    "\n",
    "# Ejecutamos el algoritmo apriori para obtener que articulos tienen una frecuencia mínima de 15% (es decir, que articulos \n",
    "# se encuentran en al menos un 15% de los ticket de compras) y cual es y el soporte de cada uno de ellos, es decir en\n",
    "# cuanto % de los tickets estan presentes esos articulos\n",
    "\n",
    "F, soporte = apriori.apriori(groceries, min_support=0.15, verbose=True)\n"
   ]
  },
  {
   "cell_type": "code",
   "execution_count": 7,
   "metadata": {
    "collapsed": false
   },
   "outputs": [
    {
     "name": "stdout",
     "output_type": "stream",
     "text": [
      "{citrus fruit}:  sup = 0.083\n",
      "{curd}:  sup = 0.053\n",
      "{root vegetables}:  sup = 0.109\n",
      "{shopping bags}:  sup = 0.099\n",
      "{bottled beer}:  sup = 0.081\n",
      "{butter}:  sup = 0.055\n",
      "{newspapers}:  sup = 0.08\n",
      "{napkins}:  sup = 0.052\n",
      "{pip fruit}:  sup = 0.076\n",
      "{domestic eggs}:  sup = 0.063\n",
      "{bottled water}:  sup = 0.111\n",
      "{tropical fruit}:  sup = 0.105\n",
      "{soda}:  sup = 0.174\n",
      "{whole milk}:  sup = 0.256\n",
      "{other vegetables}:  sup = 0.193\n",
      "{canned beer}:  sup = 0.078\n",
      "{frankfurter}:  sup = 0.059\n",
      "{sausage}:  sup = 0.094\n",
      "{yogurt}:  sup = 0.14\n",
      "{pastry}:  sup = 0.089\n",
      "{margarine}:  sup = 0.059\n",
      "{coffee}:  sup = 0.058\n",
      "{brown bread}:  sup = 0.065\n",
      "{fruit/vegetable juice}:  sup = 0.072\n",
      "{whipped/sour cream}:  sup = 0.072\n",
      "{pork}:  sup = 0.058\n",
      "{rolls/buns}:  sup = 0.184\n",
      "{beef}:  sup = 0.052\n",
      "{whole milk, yogurt}:  sup = 0.056\n",
      "{whole milk, rolls/buns}:  sup = 0.057\n",
      "{whole milk, other vegetables}:  sup = 0.075\n"
     ]
    }
   ],
   "source": [
    "# Así vemos que la soda (ocaola tal vez? o nombre generico par aefrresc), la leche entera, vegetales y pasteleria es muy popular.\n",
    "# sobretodo la leche entera que se encuentra en el 25,6% de los tickets de compra\n",
    "\n",
    "\n",
    "# Ahora, con estos algoritmos , vamos a calcularr los producto que tienen un soporte minimo 5% (es decir que se encuentran\n",
    "# en al menos un 5% de los tickets de compra) \n",
    "F, soporte = apriori.apriori(groceries, min_support=0.05, verbose=True)"
   ]
  },
  {
   "cell_type": "code",
   "execution_count": 10,
   "metadata": {
    "collapsed": false
   },
   "outputs": [
    {
     "name": "stdout",
     "output_type": "stream",
     "text": [
      "{yogurt} ---> {whole milk}:  conf = 0.402, sup = 0.056\n",
      "{rolls/buns} ---> {whole milk}:  conf = 0.308, sup = 0.057\n",
      "{other vegetables} ---> {whole milk}:  conf = 0.387, sup = 0.075\n",
      "{whole milk} ---> {other vegetables}:  conf = 0.293, sup = 0.075\n"
     ]
    }
   ],
   "source": [
    "# Por último vamos a calcular los productos que se han comprado en al menos25%de los tickets de compra se han comprado\n",
    "# juntos a estos productos de la lista de la compra  presentes en al menos un 5% de los tickets de compra\n",
    "# Es decir calculamos las reglas de asociación con una confianza de 0,25 de los productos reviamente listados.\n",
    "H1 = apriori.generate_rules(F, soporte, min_confidence=0.25, verbose=True)"
   ]
  },
  {
   "cell_type": "code",
   "execution_count": null,
   "metadata": {
    "collapsed": true
   },
   "outputs": [],
   "source": [
    "# Vemos que en un 40,2% de los casos que se compra yogures se compra leche. \n",
    "# Así Como conclusion vemos que los amantes de los lacteos compran frecuentemente yogurt y leche en a misma compra,\n",
    "# siendo abos produtos igualmente basicos para ellos. --> habria qe poner la lecche al fial de supermercado y para llegar \n",
    "# que deban pasar por el pasillo de los lacteos\n",
    "\n",
    "# Vemos que en un 30,8% de los casos que se compra bollos se compra leche. \n",
    "# Así Como conclusion diría que desayunan leche  con bollos. Por creo que el que mercadona ponga los productos que \n",
    "# complementa un desayuno basado en leche (con cafe o cacao) al final del pasillo de la bolleria es bastante acertado.\n",
    "\n",
    "# Vemos también que un 38,7 de las verces que se compra vegetales, se compra también leche. Esto parece que es una compra\n",
    "# de productos básicos. Por lo que si quueremos que se recorran tooda la tienda estara bien poner lsoo vegetales en la otra\n",
    "# esquina a donde se encuentre la leche.\n",
    "\n",
    "\n",
    "\n"
   ]
  }
 ],
 "metadata": {
  "kernelspec": {
   "display_name": "Python [Root]",
   "language": "python",
   "name": "Python [Root]"
  },
  "language_info": {
   "codemirror_mode": {
    "name": "ipython",
    "version": 3
   },
   "file_extension": ".py",
   "mimetype": "text/x-python",
   "name": "python",
   "nbconvert_exporter": "python",
   "pygments_lexer": "ipython3",
   "version": "3.5.2"
  }
 },
 "nbformat": 4,
 "nbformat_minor": 0
}
